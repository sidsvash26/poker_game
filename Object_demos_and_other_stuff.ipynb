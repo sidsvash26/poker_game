{
 "cells": [
  {
   "cell_type": "code",
   "execution_count": 1,
   "metadata": {},
   "outputs": [],
   "source": [
    "from poker_module import *"
   ]
  },
  {
   "cell_type": "markdown",
   "metadata": {},
   "source": [
    "## 1. Deck functionalities"
   ]
  },
  {
   "cell_type": "code",
   "execution_count": 2,
   "metadata": {},
   "outputs": [],
   "source": [
    "d = Deck()"
   ]
  },
  {
   "cell_type": "markdown",
   "metadata": {},
   "source": [
    "#### Sample randomly"
   ]
  },
  {
   "cell_type": "code",
   "execution_count": 3,
   "metadata": {},
   "outputs": [
    {
     "data": {
      "text/plain": [
       "8♠️  8❤️  K♠️  4♦️  3♣️  "
      ]
     },
     "execution_count": 3,
     "metadata": {},
     "output_type": "execute_result"
    }
   ],
   "source": [
    "d.sample_pokerhand()"
   ]
  },
  {
   "cell_type": "markdown",
   "metadata": {},
   "source": [
    "#### Or Sample by giving an input hand name"
   ]
  },
  {
   "cell_type": "code",
   "execution_count": 4,
   "metadata": {},
   "outputs": [
    {
     "data": {
      "text/plain": [
       "Q♣️  Q♦️  Q♠️  7❤️  7♠️  "
      ]
     },
     "execution_count": 4,
     "metadata": {},
     "output_type": "execute_result"
    }
   ],
   "source": [
    "d.sample_pokerhand(name='full house')"
   ]
  },
  {
   "cell_type": "markdown",
   "metadata": {},
   "source": [
    "## How to Decide a Winner Hand?"
   ]
  },
  {
   "cell_type": "markdown",
   "metadata": {},
   "source": [
    "Let's get some samples"
   ]
  },
  {
   "cell_type": "code",
   "execution_count": 5,
   "metadata": {},
   "outputs": [],
   "source": [
    "samples = []\n",
    "\n",
    "samples.append(d.sample_pokerhand(name='two pair'))\n",
    "samples.append(d.sample_pokerhand(name='two pair'))\n",
    "samples.append(d.sample_pokerhand(name='two pair'))\n",
    "samples.append(d.sample_pokerhand(name='three of a kind'))\n",
    "samples.append(d.sample_pokerhand(name='three of a kind'))\n",
    "samples.append(d.sample_pokerhand(name='flush'))\n",
    "samples.append(d.sample_pokerhand(name='flush'))\n",
    "samples.append(d.sample_pokerhand(name='full house'))\n",
    "samples.append(d.sample_pokerhand(name='full house'))\n",
    "samples.append(d.sample_pokerhand(name='full house'))"
   ]
  },
  {
   "cell_type": "code",
   "execution_count": 6,
   "metadata": {},
   "outputs": [
    {
     "data": {
      "text/plain": [
       "[J❤️  J♣️  8❤️  8♣️  A♠️  ,\n",
       " A♠️  A♦️  Q♠️  Q❤️  7♦️  ,\n",
       " J♣️  J♠️  6♠️  6❤️  8♦️  ,\n",
       " 10♠️  10❤️  10♦️  9♠️  3❤️  ,\n",
       " 5♠️  5❤️  5♣️  8❤️  6❤️  ,\n",
       " A♠️  K♠️  6♠️  4♠️  2♠️  ,\n",
       " J♦️  8♦️  6♦️  4♦️  3♦️  ,\n",
       " 7♣️  7♠️  7❤️  10♠️  10❤️  ,\n",
       " 3❤️  3♠️  3♦️  10❤️  10♠️  ,\n",
       " 4❤️  4♣️  4♠️  7♣️  7♠️  ]"
      ]
     },
     "execution_count": 6,
     "metadata": {},
     "output_type": "execute_result"
    }
   ],
   "source": [
    "samples"
   ]
  },
  {
   "cell_type": "markdown",
   "metadata": {},
   "source": [
    "### Decide the Winner simply by sorting :) "
   ]
  },
  {
   "cell_type": "code",
   "execution_count": 7,
   "metadata": {},
   "outputs": [
    {
     "data": {
      "text/plain": [
       "[7♣️  7♠️  7❤️  10♠️  10❤️  ,\n",
       " 4❤️  4♣️  4♠️  7♣️  7♠️  ,\n",
       " 3❤️  3♠️  3♦️  10❤️  10♠️  ,\n",
       " A♠️  K♠️  6♠️  4♠️  2♠️  ,\n",
       " J♦️  8♦️  6♦️  4♦️  3♦️  ,\n",
       " 10♠️  10❤️  10♦️  9♠️  3❤️  ,\n",
       " 5♠️  5❤️  5♣️  8❤️  6❤️  ,\n",
       " A♠️  A♦️  Q♠️  Q❤️  7♦️  ,\n",
       " J❤️  J♣️  8❤️  8♣️  A♠️  ,\n",
       " J♣️  J♠️  6♠️  6❤️  8♦️  ]"
      ]
     },
     "execution_count": 7,
     "metadata": {},
     "output_type": "execute_result"
    }
   ],
   "source": [
    "sorted(samples, reverse=True)"
   ]
  },
  {
   "cell_type": "markdown",
   "metadata": {},
   "source": [
    "## Monte Carlo Simulation"
   ]
  },
  {
   "cell_type": "code",
   "execution_count": 8,
   "metadata": {},
   "outputs": [],
   "source": [
    "n = 10000\n",
    "count_classes = defaultdict(int)\n",
    "sample_classes = {}\n",
    "for i in range(n):\n",
    "    sample = d.sample_pokerhand()\n",
    "    #print(sorted(sample, reverse=True))\n",
    "    count_classes[sample.label] += 1\n",
    "    sample_classes[sample.label] = sample"
   ]
  },
  {
   "cell_type": "code",
   "execution_count": 9,
   "metadata": {},
   "outputs": [
    {
     "name": "stdout",
     "output_type": "stream",
     "text": [
      "High Card : 5033\n",
      "One Pair : 4196\n",
      "Two Pair : 492\n",
      "Three of a Kind : 207\n",
      "Straight : 39\n",
      "Flush : 18\n",
      "Full House : 12\n",
      "Four of a Kind : 3\n"
     ]
    }
   ],
   "source": [
    "print_sorted_dct(count_classes)"
   ]
  },
  {
   "cell_type": "code",
   "execution_count": 10,
   "metadata": {},
   "outputs": [
    {
     "data": {
      "text/plain": [
       "{'One Pair': 8❤️  8♣️  A❤️  6♠️  5♣️  ,\n",
       " 'High Card': K♠️  9♦️  8♣️  6♦️  5❤️  ,\n",
       " 'Two Pair': Q♣️  Q♠️  4♠️  4❤️  A♦️  ,\n",
       " 'Three of a Kind': Q♠️  Q❤️  Q♣️  J❤️  5♣️  ,\n",
       " 'Straight': 10♦️  9♦️  8♠️  7♣️  6♣️  ,\n",
       " 'Flush': K♠️  Q♠️  6♠️  5♠️  3♠️  ,\n",
       " 'Full House': A♠️  A❤️  A♣️  Q♦️  Q♠️  ,\n",
       " 'Four of a Kind': J❤️  J♠️  J♦️  J♣️  3♦️  }"
      ]
     },
     "execution_count": 10,
     "metadata": {},
     "output_type": "execute_result"
    }
   ],
   "source": [
    "sample_classes"
   ]
  },
  {
   "cell_type": "markdown",
   "metadata": {},
   "source": [
    "## 3. Other Objects"
   ]
  },
  {
   "cell_type": "code",
   "execution_count": 11,
   "metadata": {},
   "outputs": [
    {
     "data": {
      "text/plain": [
       "Q♠️  Q❤️  Q♣️  J❤️  5♣️  "
      ]
     },
     "execution_count": 11,
     "metadata": {},
     "output_type": "execute_result"
    }
   ],
   "source": [
    "sample"
   ]
  },
  {
   "cell_type": "code",
   "execution_count": 12,
   "metadata": {},
   "outputs": [
    {
     "data": {
      "text/plain": [
       "poker_module.PokerHand"
      ]
     },
     "execution_count": 12,
     "metadata": {},
     "output_type": "execute_result"
    }
   ],
   "source": [
    "type(sample)"
   ]
  },
  {
   "cell_type": "code",
   "execution_count": 13,
   "metadata": {},
   "outputs": [
    {
     "data": {
      "text/plain": [
       "[Q♠️, Q❤️, Q♣️, J❤️, 5♣️]"
      ]
     },
     "execution_count": 13,
     "metadata": {},
     "output_type": "execute_result"
    }
   ],
   "source": [
    "sample.cards"
   ]
  },
  {
   "cell_type": "code",
   "execution_count": 14,
   "metadata": {},
   "outputs": [
    {
     "data": {
      "text/plain": [
       "Q♠️"
      ]
     },
     "execution_count": 14,
     "metadata": {},
     "output_type": "execute_result"
    }
   ],
   "source": [
    "sample.cards[0]"
   ]
  },
  {
   "cell_type": "code",
   "execution_count": 15,
   "metadata": {},
   "outputs": [
    {
     "data": {
      "text/plain": [
       "poker_module.Card"
      ]
     },
     "execution_count": 15,
     "metadata": {},
     "output_type": "execute_result"
    }
   ],
   "source": [
    "type(sample.cards[0])"
   ]
  }
 ],
 "metadata": {
  "kernelspec": {
   "display_name": "Python 3",
   "language": "python",
   "name": "python3"
  },
  "language_info": {
   "codemirror_mode": {
    "name": "ipython",
    "version": 3
   },
   "file_extension": ".py",
   "mimetype": "text/x-python",
   "name": "python",
   "nbconvert_exporter": "python",
   "pygments_lexer": "ipython3",
   "version": "3.8.3"
  }
 },
 "nbformat": 4,
 "nbformat_minor": 4
}
